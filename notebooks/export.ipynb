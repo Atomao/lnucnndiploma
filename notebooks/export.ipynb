{
 "cells": [
  {
   "cell_type": "code",
   "execution_count": 1,
   "id": "2d691daf-e7ee-4398-9d70-3ad2e28d1f80",
   "metadata": {},
   "outputs": [],
   "source": [
    "from ultralytics import YOLO\n",
    "\n",
    "# Load a model\n",
    "model = YOLO('yolov5nu.pt')  # load an official model\n",
    "\n",
    "# Export the model\n",
    "# model.export(format='tflite', optimize=True, half=False, int8=False, simplify=True)"
   ]
  },
  {
   "cell_type": "code",
   "execution_count": 23,
   "id": "b6391cfd-2577-43d9-a4f3-a686e3a02876",
   "metadata": {},
   "outputs": [
    {
     "name": "stdout",
     "output_type": "stream",
     "text": [
      "Model pruned to 0.896 global sparsity\n"
     ]
    }
   ],
   "source": [
    "import torch, torch.nn as nn\n",
    "from torch.nn.utils import prune\n",
    "from ultralytics import YOLO\n",
    "\n",
    "model_base = YOLO(\"yolov5nu.pt\")\n",
    "\n",
    "\n",
    "def sparsity(model):\n",
    "    # Return global model sparsity\n",
    "    a, b = 0, 0\n",
    "    for p in model.parameters():\n",
    "        a += p.numel()\n",
    "        b += (p == 0).sum()\n",
    "    return b / a\n",
    "\n",
    "pruning_param = 0.9\n",
    "\n",
    "for name, m in model_base.model.named_modules():\n",
    "    if isinstance(m, nn.Conv2d) or isinstance(m, torch.nn.Linear):\n",
    "        prune.l1_unstructured(m, name='weight', amount=pruning_param)  # prune\n",
    "        prune.remove(m, 'weight')  # make permanent\n",
    "print(f'Model pruned to {sparsity(model.model):.3g} global sparsity')\n",
    "\n",
    "ckpt = {\n",
    "\n",
    "            'model': model_base.model,\n",
    "            'train_args': {},  # save as dict\n",
    "}\n",
    "\n",
    "prune_path = f'yolov5nu_pruned{pruning_param * 100}.pt'\n",
    "torch.save(ckpt, prune_path)\n",
    "\n",
    "model = YOLO(prune_path)\n",
    "\n"
   ]
  },
  {
   "cell_type": "code",
   "execution_count": 24,
   "id": "7c7baf8c-b21d-4fcb-b1af-c218910a1f31",
   "metadata": {},
   "outputs": [
    {
     "name": "stdout",
     "output_type": "stream",
     "text": [
      "Ultralytics YOLOv8.1.28 🚀 Python-3.10.12 torch-2.2.1+cu121 CPU (Intel Core(TM) i7-1065G7 1.30GHz)\n",
      "YOLOv5n summary (fused): 193 layers, 2649200 parameters, 0 gradients, 7.7 GFLOPs\n",
      "\n",
      "\u001b[34m\u001b[1mPyTorch:\u001b[0m starting from 'yolov5nu_pruned90.0.pt' with input shape (1, 3, 640, 640) BCHW and output shape(s) (1, 84, 8400) (10.4 MB)\n",
      "\n",
      "\u001b[34m\u001b[1mTensorFlow SavedModel:\u001b[0m starting export with tensorflow 2.13.1...\n",
      "\n",
      "\u001b[34m\u001b[1mONNX:\u001b[0m starting export with onnx 1.15.0 opset 17...\n",
      "\u001b[34m\u001b[1mONNX:\u001b[0m simplifying with onnxsim 0.4.36...\n",
      "\u001b[34m\u001b[1mONNX:\u001b[0m export success ✅ 0.8s, saved as 'yolov5nu_pruned90.0.onnx' (10.4 MB)\n",
      "\u001b[34m\u001b[1mTensorFlow SavedModel:\u001b[0m starting TFLite export with onnx2tf 1.17.5...\n",
      "\u001b[34m\u001b[1mTensorFlow SavedModel:\u001b[0m export success ✅ 51.3s, saved as 'yolov5nu_pruned90.0_saved_model' (26.1 MB)\n",
      "\n",
      "\u001b[34m\u001b[1mTensorFlow Lite:\u001b[0m starting export with tensorflow 2.13.1...\n",
      "\u001b[34m\u001b[1mTensorFlow Lite:\u001b[0m export success ✅ 0.0s, saved as 'yolov5nu_pruned90.0_saved_model/yolov5nu_pruned90.0_float32.tflite' (10.4 MB)\n",
      "\n",
      "Export complete (52.7s)\n",
      "Results saved to \u001b[1m/home/danylo/Desktop/mesh/univ/corusova\u001b[0m\n",
      "Predict:         yolo predict task=detect model=yolov5nu_pruned90.0_saved_model/yolov5nu_pruned90.0_float32.tflite imgsz=640  \n",
      "Validate:        yolo val task=detect model=yolov5nu_pruned90.0_saved_model/yolov5nu_pruned90.0_float32.tflite imgsz=640 data=None  \n",
      "Visualize:       https://netron.app\n"
     ]
    },
    {
     "data": {
      "text/plain": [
       "'yolov5nu_pruned90.0_saved_model/yolov5nu_pruned90.0_float32.tflite'"
      ]
     },
     "execution_count": 24,
     "metadata": {},
     "output_type": "execute_result"
    }
   ],
   "source": [
    "model.export(format='tflite')"
   ]
  },
  {
   "cell_type": "code",
   "execution_count": null,
   "id": "14b65613-0dce-4821-8cf1-9e693043a42c",
   "metadata": {},
   "outputs": [],
   "source": []
  }
 ],
 "metadata": {
  "kernelspec": {
   "display_name": "Python 3 (ipykernel)",
   "language": "python",
   "name": "python3"
  },
  "language_info": {
   "codemirror_mode": {
    "name": "ipython",
    "version": 3
   },
   "file_extension": ".py",
   "mimetype": "text/x-python",
   "name": "python",
   "nbconvert_exporter": "python",
   "pygments_lexer": "ipython3",
   "version": "3.10.12"
  }
 },
 "nbformat": 4,
 "nbformat_minor": 5
}
